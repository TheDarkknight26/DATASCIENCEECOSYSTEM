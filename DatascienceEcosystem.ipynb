{
 "cells": [
  {
   "cell_type": "markdown",
   "id": "fa66374a-301e-4fbe-8345-ed2723860b5d",
   "metadata": {},
   "source": [
    "Data Science Tools and Ecosystem"
   ]
  },
  {
   "cell_type": "markdown",
   "id": "aa72df74-cdc9-4bd2-92e1-f0abb6a18988",
   "metadata": {},
   "source": [
    "Notebook"
   ]
  },
  {
   "cell_type": "markdown",
   "id": "9235a9bd-c517-49cd-acb9-94e965b56d4b",
   "metadata": {},
   "source": [
    "Introduction"
   ]
  },
  {
   "cell_type": "markdown",
   "id": "2a4e67d6-793e-41fe-aaf4-da487f4e9ba6",
   "metadata": {},
   "source": [
    "Data Science languages\n",
    "\n",
    "R\n",
    "Python\n",
    "Julia\n"
   ]
  },
  {
   "cell_type": "markdown",
   "id": "b59aa246-9a9e-41a0-bd30-95e280fea3b9",
   "metadata": {},
   "source": [
    "20*5\n",
    "100"
   ]
  },
  {
   "cell_type": "code",
   "execution_count": 1,
   "id": "3d9ce44c-c16d-4e3a-9823-1f9db8391218",
   "metadata": {
    "tags": []
   },
   "outputs": [
    {
     "data": {
      "text/plain": [
       "100"
      ]
     },
     "execution_count": 1,
     "metadata": {},
     "output_type": "execute_result"
    }
   ],
   "source": [
    "20*5\n"
   ]
  },
  {
   "cell_type": "code",
   "execution_count": 3,
   "id": "0bc22156-d734-4c73-a373-784e173d5fde",
   "metadata": {
    "tags": []
   },
   "outputs": [
    {
     "data": {
      "text/plain": [
       "68"
      ]
     },
     "execution_count": 3,
     "metadata": {},
     "output_type": "execute_result"
    }
   ],
   "source": [
    "23 + 45"
   ]
  },
  {
   "cell_type": "code",
   "execution_count": 5,
   "id": "334bd2d9-93b9-44ed-b029-15b7e9b3632d",
   "metadata": {
    "tags": []
   },
   "outputs": [
    {
     "data": {
      "text/plain": [
       "15.75"
      ]
     },
     "execution_count": 5,
     "metadata": {},
     "output_type": "execute_result"
    }
   ],
   "source": [
    "minutes=945\n",
    "hours=minutes/60\n",
    "hours"
   ]
  },
  {
   "cell_type": "markdown",
   "id": "7d9a1f36-97cf-43ba-94a1-df7391139eaf",
   "metadata": {},
   "source": [
    "Objectives\n",
    "\n",
    "1. To learn jupyter\n",
    "2. To learn git and github\n",
    "3. To be better\n"
   ]
  },
  {
   "cell_type": "markdown",
   "id": "1d7098fa-3311-4eb0-a7e2-07c4da74edf9",
   "metadata": {},
   "source": [
    "The author of this python file is - Arunesh Pratap Singh Tomar"
   ]
  },
  {
   "cell_type": "code",
   "execution_count": null,
   "id": "93fa4bc0-b9a4-46cd-8e59-44ffee1435c6",
   "metadata": {},
   "outputs": [],
   "source": []
  }
 ],
 "metadata": {
  "kernelspec": {
   "display_name": "Python",
   "language": "python",
   "name": "conda-env-python-py"
  },
  "language_info": {
   "codemirror_mode": {
    "name": "ipython",
    "version": 3
   },
   "file_extension": ".py",
   "mimetype": "text/x-python",
   "name": "python",
   "nbconvert_exporter": "python",
   "pygments_lexer": "ipython3",
   "version": "3.7.12"
  }
 },
 "nbformat": 4,
 "nbformat_minor": 5
}
